{
  "nbformat": 4,
  "nbformat_minor": 0,
  "metadata": {
    "colab": {
      "provenance": [],
      "toc_visible": true,
      "authorship_tag": "ABX9TyOeD8iUH+qkxE8DBxKgWOvd",
      "include_colab_link": true
    },
    "kernelspec": {
      "name": "python3",
      "display_name": "Python 3"
    },
    "language_info": {
      "name": "python"
    }
  },
  "cells": [
    {
      "cell_type": "markdown",
      "metadata": {
        "id": "view-in-github",
        "colab_type": "text"
      },
      "source": [
        "<a href=\"https://colab.research.google.com/github/lauroPereira/data-science-school/blob/master/curso_data_science.ipynb\" target=\"_parent\"><img src=\"https://colab.research.google.com/assets/colab-badge.svg\" alt=\"Open In Colab\"/></a>"
      ]
    },
    {
      "cell_type": "markdown",
      "source": [
        "RID #95259"
      ],
      "metadata": {
        "id": "5whzGVscm2n3"
      }
    },
    {
      "cell_type": "markdown",
      "source": [
        "# Aula 1 - Data Expert DNC"
      ],
      "metadata": {
        "id": "M15Rk8PNfvW4"
      }
    },
    {
      "cell_type": "markdown",
      "source": [
        "# Aula 2 - Data Expert DNC"
      ],
      "metadata": {
        "id": "NxJt5F8Xfkn0"
      }
    },
    {
      "cell_type": "markdown",
      "source": [
        "ETAPA 01\n",
        "Colete os nomes e idades de cada pessoa, crie uma lista para a Idade e uma para os nomes, em seguida monte os códigos das seguintes questões:"
      ],
      "metadata": {
        "id": "AnGWqArnm-Ap"
      }
    },
    {
      "cell_type": "code",
      "source": [
        "nomes  = ['Natan', 'Wesley Gomes' ,'Nicolas' ,'Letícia' ,'Rodrigo' ,'Lauro' ,'Victor' ,'Luis felipe' ,'Vilson' ,'Renan' ,'jonathan vargas jardim']\n",
        "idades = [29,29,29,24,33,34,27,25,40,26,35]"
      ],
      "metadata": {
        "id": "t8U7l72RoTJ3"
      },
      "execution_count": 1,
      "outputs": []
    },
    {
      "cell_type": "markdown",
      "source": [
        "a - Faça um for onde imprima a idade e nome de cada integrante do grupo."
      ],
      "metadata": {
        "id": "e-bGG4HFnHDq"
      }
    },
    {
      "cell_type": "code",
      "source": [
        "alunos = []\n",
        "for nome, idade in zip(nomes, idades):\n",
        "  alunos.append([nome,idade])\n",
        "\n",
        "for aluno in alunos:\n",
        "  print(f'''O aluno {aluno[0]} possui {aluno[1]} anos''')"
      ],
      "metadata": {
        "colab": {
          "base_uri": "https://localhost:8080/"
        },
        "id": "eZuYAd6oohgx",
        "outputId": "46512421-e328-46a8-e9d7-bc8de351eeca"
      },
      "execution_count": 2,
      "outputs": [
        {
          "output_type": "stream",
          "name": "stdout",
          "text": [
            "O aluno Natan possui 29 anos\n",
            "O aluno Wesley Gomes possui 29 anos\n",
            "O aluno Nicolas possui 29 anos\n",
            "O aluno Letícia possui 24 anos\n",
            "O aluno Rodrigo possui 33 anos\n",
            "O aluno Lauro possui 34 anos\n",
            "O aluno Victor possui 27 anos\n",
            "O aluno Luis felipe possui 25 anos\n",
            "O aluno Vilson possui 40 anos\n",
            "O aluno Renan possui 26 anos\n",
            "O aluno jonathan vargas jardim possui 35 anos\n"
          ]
        }
      ]
    },
    {
      "cell_type": "markdown",
      "source": [
        "b - Plote um gráfico de barras com o nome de cada pessoa e a idade de cada uma delas"
      ],
      "metadata": {
        "id": "JUjh-xQMnKs8"
      }
    },
    {
      "cell_type": "code",
      "source": [
        "import numpy as np\n",
        "import matplotlib.pyplot as plt\n",
        "\n",
        "plt.figure(figsize = (18,10))\n",
        "plt.figure(figsize = (18,5))\n",
        "plt.bar(nomes, idades)"
      ],
      "metadata": {
        "colab": {
          "base_uri": "https://localhost:8080/",
          "height": 355
        },
        "id": "3JOA44rqp_hE",
        "outputId": "894603a4-289d-4e9c-8396-7beb577d3d92"
      },
      "execution_count": 3,
      "outputs": [
        {
          "output_type": "execute_result",
          "data": {
            "text/plain": [
              "<BarContainer object of 11 artists>"
            ]
          },
          "metadata": {},
          "execution_count": 3
        },
        {
          "output_type": "display_data",
          "data": {
            "text/plain": [
              "<Figure size 1296x720 with 0 Axes>"
            ]
          },
          "metadata": {}
        },
        {
          "output_type": "display_data",
          "data": {
            "text/plain": [
              "<Figure size 1296x360 with 1 Axes>"
            ],
            "image/png": "[encoded data removed]"
          },
          "metadata": {
            "needs_background": "light"
          }
        }
      ]
    },
    {
      "cell_type": "markdown",
      "source": [
        "ETAPA 02\n",
        "Colete o Salário que cada um quer ganhar e repita o mesmo procedimento anterior."
      ],
      "metadata": {
        "id": "ur92qHCmqVpm"
      }
    },
    {
      "cell_type": "code",
      "source": [
        "import random\n",
        "\n",
        "salarios = []\n",
        "\n",
        "for aluno in alunos:\n",
        "  salarios.append(random.randint(10000, 20000))\n",
        "\n",
        "salarios\n",
        "for nome, idade, salario in zip(nomes, idades, salarios):\n",
        "  alunos.append([nome,idade, salario])\n"
      ],
      "metadata": {
        "id": "W3bBedeWqbx-"
      },
      "execution_count": 4,
      "outputs": []
    },
    {
      "cell_type": "code",
      "source": [
        "plt.figure(figsize = (18,10))\n",
        "plt.figure(figsize = (18,5))\n",
        "plt.bar(nomes, salarios)"
      ],
      "metadata": {
        "colab": {
          "base_uri": "https://localhost:8080/",
          "height": 355
        },
        "id": "sJ1WjXoYrPmQ",
        "outputId": "6632e20c-0ea7-4217-9b58-4c879bebadf0"
      },
      "execution_count": 5,
      "outputs": [
        {
          "output_type": "execute_result",
          "data": {
            "text/plain": [
              "<BarContainer object of 11 artists>"
            ]
          },
          "metadata": {},
          "execution_count": 5
        },
        {
          "output_type": "display_data",
          "data": {
            "text/plain": [
              "<Figure size 1296x720 with 0 Axes>"
            ]
          },
          "metadata": {}
        },
        {
          "output_type": "display_data",
          "data": {
            "text/plain": [
              "<Figure size 1296x360 with 1 Axes>"
            ],
            "image/png": "[encoded data removed]"
          },
          "metadata": {
            "needs_background": "light"
          }
        }
      ]
    },
    {
      "cell_type": "code",
      "source": [
        "import numpy as np\n",
        "media = 0\n",
        "soma_salarios = 0\n",
        "for salario in salarios:\n",
        "  soma_salarios += salario\n",
        "\n",
        "media = soma_salarios/len(salarios)\n",
        "print(f'média python: {media}')\n",
        "\n",
        "print(f'média numpy: {np.mean(salarios)}')"
      ],
      "metadata": {
        "colab": {
          "base_uri": "https://localhost:8080/"
        },
        "id": "E_yDaGNB0wl1",
        "outputId": "9cbca467-508a-42b5-ff6e-7dadafb18f81"
      },
      "execution_count": 6,
      "outputs": [
        {
          "output_type": "stream",
          "name": "stdout",
          "text": [
            "média python: 14341.0\n",
            "média numpy: 14341.0\n"
          ]
        }
      ]
    }
  ]
}